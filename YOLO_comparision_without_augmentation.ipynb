{
  "cells": [
    {
      "cell_type": "code",
      "execution_count": null,
      "metadata": {
        "id": "q0insD0MZYem",
        "collapsed": true
      },
      "outputs": [],
      "source": [
        "!nvidia-smi"
      ]
    },
    {
      "cell_type": "code",
      "execution_count": null,
      "metadata": {
        "id": "UFMZelnT77TN",
        "collapsed": true
      },
      "outputs": [],
      "source": [
        "!pip install ultralytics supervision roboflow\n",
        "\n",
        "from ultralytics import YOLO\n",
        "from roboflow import Roboflow\n"
      ]
    },
    {
      "cell_type": "code",
      "execution_count": null,
      "metadata": {
        "id": "i4F3gxG688q7"
      },
      "outputs": [],
      "source": [
        "from IPython import display\n",
        "display.clear_output()\n",
        "from IPython.display import display, Image\n",
        "\n",
        "\n",
        "import ultralytics\n",
        "ultralytics.checks()"
      ]
    },
    {
      "cell_type": "markdown",
      "source": [
        "# ***Without Augmentation***"
      ],
      "metadata": {
        "id": "NdYMja2DZ0J0"
      }
    },
    {
      "cell_type": "markdown",
      "source": [
        "# ***YOLOv8***"
      ],
      "metadata": {
        "id": "Yv6-5kapfulD"
      }
    },
    {
      "cell_type": "code",
      "source": [
        "#YOLO8\n",
        "from roboflow import Roboflow\n",
        "rf = Roboflow(api_key=\"xByDXBLs3CmDXLEcN0bw\")\n",
        "project = rf.workspace(\"tamilarasi-dpda3\").project(\"brinjal-detection-5niwn\")\n",
        "version = project.version(5)\n",
        "dataset = version.download(\"yolov8\")\n"
      ],
      "metadata": {
        "collapsed": true,
        "id": "0q084OwCZ32h"
      },
      "execution_count": null,
      "outputs": []
    },
    {
      "cell_type": "code",
      "source": [
        "!sed -i '$d' {dataset.location}/data.yaml   # Delete the last line\n",
        "!sed -i '$d' {dataset.location}/data.yaml   # Delete the second-to-last line\n",
        "!sed -i '$d' {dataset.location}/data.yaml   # Delete the third-to-last line\n",
        "\n",
        "!echo 'test: ../test/images' >> {dataset.location}/data.yaml\n",
        "!echo 'train: ../train/images' >> {dataset.location}/data.yaml\n",
        "!echo 'val: ../valid/images' >> {dataset.location}/data.yaml\n"
      ],
      "metadata": {
        "id": "TiqAfCwZadIH"
      },
      "execution_count": null,
      "outputs": []
    },
    {
      "cell_type": "code",
      "source": [
        "model8_wout_aug=YOLO(\"yolov8s.pt\")\n",
        "results8_wout_aug=model8_wout_aug.train(data=\"/content/Brinjal-detection-5/data.yaml\", epochs=100, imgsz=640)"
      ],
      "metadata": {
        "collapsed": true,
        "id": "BNQ511c7afOn"
      },
      "execution_count": null,
      "outputs": []
    },
    {
      "cell_type": "markdown",
      "source": [
        "# ***YOLO9***"
      ],
      "metadata": {
        "id": "Qm9tz4CXf6Sa"
      }
    },
    {
      "cell_type": "code",
      "source": [
        "#YOLO9\n",
        "from roboflow import Roboflow\n",
        "rf = Roboflow(api_key=\"xByDXBLs3CmDXLEcN0bw\")\n",
        "project = rf.workspace(\"tamilarasi-dpda3\").project(\"brinjal-detection-5niwn\")\n",
        "version = project.version(5)\n",
        "dataset = version.download(\"yolov9\")\n",
        "!sed -i '$d' {dataset.location}/data.yaml   # Delete the last line\n",
        "!sed -i '$d' {dataset.location}/data.yaml   # Delete the second-to-last line\n",
        "!sed -i '$d' {dataset.location}/data.yaml   # Delete the third-to-last line\n",
        "\n",
        "!echo 'test: ../test/images' >> {dataset.location}/data.yaml\n",
        "!echo 'train: ../train/images' >> {dataset.location}/data.yaml\n",
        "!echo 'val: ../valid/images' >> {dataset.location}/data.yaml\n"
      ],
      "metadata": {
        "id": "_XC4wwk3ihLg"
      },
      "execution_count": null,
      "outputs": []
    },
    {
      "cell_type": "code",
      "source": [
        "model9_wout_aug=YOLO(\"yolov9s.pt\")\n",
        "results9_wout_aug=model9_wout_aug.train(data=\"/content/Brinjal-detection-5/data.yaml\", epochs=100, imgsz=640)"
      ],
      "metadata": {
        "id": "_ksiawbEiynF"
      },
      "execution_count": null,
      "outputs": []
    },
    {
      "cell_type": "markdown",
      "source": [
        "# ***YOLO10***"
      ],
      "metadata": {
        "id": "V4CY0l2ogCsT"
      }
    },
    {
      "cell_type": "code",
      "source": [
        "model10_wout_aug=YOLO(\"yolov10s.pt\")\n",
        "results10_wout_aug=model10_wout_aug.train(data=\"/content/Brinjal-detection-5/data.yaml\", epochs=100, imgsz=640)"
      ],
      "metadata": {
        "id": "jsWL8KN5i-O9"
      },
      "execution_count": null,
      "outputs": []
    },
    {
      "cell_type": "markdown",
      "source": [
        "# ***YOLO11***"
      ],
      "metadata": {
        "id": "cbMFtJeqgQpe"
      }
    },
    {
      "cell_type": "code",
      "source": [
        "#YOLO11\n",
        "from roboflow import Roboflow\n",
        "rf = Roboflow(api_key=\"xByDXBLs3CmDXLEcN0bw\")\n",
        "project = rf.workspace(\"tamilarasi-dpda3\").project(\"brinjal-detection-5niwn\")\n",
        "version = project.version(5)\n",
        "dataset = version.download(\"yolov11\")\n",
        "!sed -i '$d' {dataset.location}/data.yaml   # Delete the last line\n",
        "!sed -i '$d' {dataset.location}/data.yaml   # Delete the second-to-last line\n",
        "!sed -i '$d' {dataset.location}/data.yaml   # Delete the third-to-last line\n",
        "\n",
        "!echo 'test: ../test/images' >> {dataset.location}/data.yaml\n",
        "!echo 'train: ../train/images' >> {dataset.location}/data.yaml\n",
        "!echo 'val: ../valid/images' >> {dataset.location}/data.yaml\n"
      ],
      "metadata": {
        "id": "zHeva8hjgPrC"
      },
      "execution_count": null,
      "outputs": []
    },
    {
      "cell_type": "code",
      "source": [
        "model11_wout_aug=YOLO(\"yolo11s.pt\")\n",
        "results11_wout_aug=model11_wout_aug.train(data=\"/content/Brinjal-detection-5/data.yaml\", epochs=100, imgsz=640)"
      ],
      "metadata": {
        "id": "eyMcfl8fgd_2"
      },
      "execution_count": null,
      "outputs": []
    },
    {
      "cell_type": "markdown",
      "source": [
        "# ***YOLO12***"
      ],
      "metadata": {
        "id": "y1WIcVbmgK7U"
      }
    },
    {
      "cell_type": "code",
      "source": [
        "#YOLO12\n",
        "from roboflow import Roboflow\n",
        "rf = Roboflow(api_key=\"xByDXBLs3CmDXLEcN0bw\")\n",
        "project = rf.workspace(\"tamilarasi-dpda3\").project(\"brinjal-detection-5niwn\")\n",
        "version = project.version(5)\n",
        "dataset = version.download(\"yolov12\")\n",
        "!sed -i '$d' {dataset.location}/data.yaml   # Delete the last line\n",
        "!sed -i '$d' {dataset.location}/data.yaml   # Delete the second-to-last line\n",
        "!sed -i '$d' {dataset.location}/data.yaml   # Delete the third-to-last line\n",
        "\n",
        "!echo 'test: ../test/images' >> {dataset.location}/data.yaml\n",
        "!echo 'train: ../train/images' >> {dataset.location}/data.yaml\n",
        "!echo 'val: ../valid/images' >> {dataset.location}/data.yaml\n"
      ],
      "metadata": {
        "id": "zwy9HNs6zW-y"
      },
      "execution_count": null,
      "outputs": []
    },
    {
      "cell_type": "code",
      "source": [
        "model12_wout_aug=YOLO(\"yolo12s.pt\")\n",
        "results12_wout_aug=model12_wout_aug.train(data=\"/content/Brinjal-detection-5/data.yaml\", epochs=100, imgsz=640)"
      ],
      "metadata": {
        "id": "R3th-yQ-zdWH"
      },
      "execution_count": null,
      "outputs": []
    }
  ],
  "metadata": {
    "accelerator": "GPU",
    "colab": {
      "gpuType": "T4",
      "provenance": []
    },
    "kernelspec": {
      "display_name": "Python 3",
      "name": "python3"
    },
    "language_info": {
      "name": "python"
    }
  },
  "nbformat": 4,
  "nbformat_minor": 0
}