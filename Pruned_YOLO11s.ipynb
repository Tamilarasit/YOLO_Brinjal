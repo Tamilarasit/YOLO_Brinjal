{
  "cells": [
    {
      "cell_type": "code",
      "execution_count": null,
      "metadata": {
        "id": "q0insD0MZYem"
      },
      "outputs": [],
      "source": [
        "!nvidia-smi"
      ]
    },
    {
      "cell_type": "code",
      "execution_count": null,
      "metadata": {
        "collapsed": true,
        "id": "UFMZelnT77TN"
      },
      "outputs": [],
      "source": [
        "!pip install ultralytics supervision roboflow\n",
        "\n",
        "from ultralytics import YOLO\n",
        "from roboflow import Roboflow\n"
      ]
    },
    {
      "cell_type": "code",
      "execution_count": null,
      "metadata": {
        "colab": {
          "base_uri": "https://localhost:8080/"
        },
        "id": "i4F3gxG688q7",
        "outputId": "619394cd-bd58-4905-d0bf-65fdeeaa0685"
      },
      "outputs": [
        {
          "output_type": "stream",
          "name": "stdout",
          "text": [
            "Ultralytics 8.3.153 🚀 Python-3.11.13 torch-2.6.0+cu124 CUDA:0 (Tesla T4, 15095MiB)\n",
            "Setup complete ✅ (2 CPUs, 12.7 GB RAM, 41.7/112.6 GB disk)\n"
          ]
        }
      ],
      "source": [
        "from IPython import display\n",
        "display.clear_output()\n",
        "from IPython.display import display, Image\n",
        "\n",
        "\n",
        "import ultralytics\n",
        "ultralytics.checks()"
      ]
    },
    {
      "cell_type": "markdown",
      "metadata": {
        "id": "J7o8PtQLBUbO"
      },
      "source": [
        "# YOLO 11 from Github"
      ]
    },
    {
      "cell_type": "code",
      "execution_count": null,
      "metadata": {
        "collapsed": true,
        "id": "LtCXrtdsQorz"
      },
      "outputs": [],
      "source": [
        "!git clone https://github.com/ultralytics/ultralytics"
      ]
    },
    {
      "cell_type": "code",
      "execution_count": null,
      "metadata": {
        "collapsed": true,
        "id": "5snJs6jIWefp"
      },
      "outputs": [],
      "source": [
        "!yolo task=detect mode=train model=yolo11s.pt data={dataset.location}/data.yaml epochs=100 imgsz=640 plots=True\n"
      ]
    },
    {
      "cell_type": "code",
      "execution_count": null,
      "metadata": {
        "id": "54Kiyt8doGuS"
      },
      "outputs": [],
      "source": [
        "import torch\n",
        "import torch.nn.utils.prune as prune"
      ]
    },
    {
      "cell_type": "markdown",
      "metadata": {
        "id": "U1eonnZwoIK_"
      },
      "source": [
        "# Model Pruning"
      ]
    },
    {
      "cell_type": "markdown",
      "metadata": {
        "id": "7PXfchShq2FD"
      },
      "source": [
        "# Structured Pruning -- Width-wise pruning....\n",
        "Change the number of filters\n",
        "Reduce the number of learning parameters\n",
        "Result in less computational cost and high inference time\n",
        "Trade-off with accuracy\n",
        "   \n",
        "\n",
        "\n",
        "   Change the number of filters in the ***cfg/models/11/yolo11s.yaml***  file.... or upload the file pruned_yolo11s.yaml"
      ]
    },
    {
      "cell_type": "code",
      "execution_count": null,
      "metadata": {
        "id": "OvtXF4kl1y30"
      },
      "outputs": [],
      "source": [
        "import locale\n",
        "\n",
        "def getpreferredencoding(do_setlocale = True):\n",
        "    return \"UTF-8\"\n",
        "\n",
        "locale.getpreferredencoding = getpreferredencoding\n"
      ]
    },
    {
      "cell_type": "code",
      "execution_count": null,
      "metadata": {
        "id": "z9UK7SR80yto"
      },
      "outputs": [],
      "source": [
        "# Clone the YOLO from GitHub\n",
        "!git clone https://github.com/ultralytics/ultralytics"
      ]
    },
    {
      "cell_type": "code",
      "execution_count": null,
      "metadata": {
        "collapsed": true,
        "id": "Z4vHftinAIJi"
      },
      "outputs": [],
      "source": [
        "model_pruned=YOLO(\"/content/ultralytics/ultralytics/cfg/models/11/pruned_yolo11s.yaml\")\n",
        "#model1\n"
      ]
    },
    {
      "cell_type": "code",
      "execution_count": null,
      "metadata": {
        "id": "YAwUAfvUMQCS"
      },
      "outputs": [],
      "source": [
        "results_pruned=model_pruned.train(data=\"/content/Brinjal-detection-7/data.yaml\", epochs=100, imgsz=640)\n"
      ]
    },
    {
      "cell_type": "code",
      "execution_count": null,
      "metadata": {
        "collapsed": true,
        "id": "OCiXDNJiWnV8"
      },
      "outputs": [],
      "source": [
        "model_pruned.predict(source=\"/content/Brinjal-detection-7/test/images\", save=True)"
      ]
    }
  ],
  "metadata": {
    "accelerator": "GPU",
    "colab": {
      "gpuType": "T4",
      "provenance": []
    },
    "kernelspec": {
      "display_name": "Python 3",
      "name": "python3"
    },
    "language_info": {
      "name": "python"
    }
  },
  "nbformat": 4,
  "nbformat_minor": 0
}