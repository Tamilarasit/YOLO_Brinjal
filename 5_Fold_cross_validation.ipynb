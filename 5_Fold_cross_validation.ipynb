{
  "cells": [
    {
      "cell_type": "code",
      "execution_count": null,
      "metadata": {
        "id": "q0insD0MZYem"
      },
      "outputs": [],
      "source": [
        "!nvidia-smi"
      ]
    },
    {
      "cell_type": "code",
      "execution_count": null,
      "metadata": {
        "collapsed": true,
        "id": "UFMZelnT77TN"
      },
      "outputs": [],
      "source": [
        "!pip install ultralytics supervision roboflow\n",
        "\n",
        "from ultralytics import YOLO\n",
        "from roboflow import Roboflow\n"
      ]
    },
    {
      "cell_type": "code",
      "execution_count": null,
      "metadata": {
        "id": "i4F3gxG688q7"
      },
      "outputs": [],
      "source": [
        "from IPython import display\n",
        "display.clear_output()\n",
        "from IPython.display import display, Image\n",
        "\n",
        "\n",
        "import ultralytics\n",
        "ultralytics.checks()"
      ]
    },
    {
      "cell_type": "markdown",
      "metadata": {
        "id": "Hm1lzF9uuIE-"
      },
      "source": [
        "# Original YOLO11s execution"
      ]
    },
    {
      "cell_type": "code",
      "execution_count": null,
      "metadata": {
        "collapsed": true,
        "id": "jZ1pqct7rpH8"
      },
      "outputs": [],
      "source": [
        "!pip install roboflow\n",
        "\n",
        "from roboflow import Roboflow\n",
        "rf = Roboflow(api_key=\"Access key can be provided upon request.\")\n",
        "project = rf.workspace(\"tamilarasi-dpda3\").project(\"brinjal-detection-5niwn\")\n",
        "version = project.version(7)\n",
        "dataset = version.download(\"yolov11\")\n"
      ]
    },
    {
      "cell_type": "code",
      "execution_count": null,
      "metadata": {
        "id": "3Jxkw8durxEA"
      },
      "outputs": [],
      "source": [
        "!sed -i '$d' {dataset.location}/data.yaml   # Delete the last line\n",
        "!sed -i '$d' {dataset.location}/data.yaml   # Delete the second-to-last line\n",
        "!sed -i '$d' {dataset.location}/data.yaml   # Delete the third-to-last line\n",
        "\n",
        "!echo 'test: ../test/images' >> {dataset.location}/data.yaml\n",
        "!echo 'train: ../train/images' >> {dataset.location}/data.yaml\n",
        "!echo 'val: ../valid/images' >> {dataset.location}/data.yaml\n"
      ]
    },
    {
      "cell_type": "code",
      "execution_count": null,
      "metadata": {
        "collapsed": true,
        "id": "QPFHrpPZ-XlS"
      },
      "outputs": [],
      "source": [
        "model11=YOLO(\"yolo11s.pt\")\n"
      ]
    },
    {
      "cell_type": "code",
      "execution_count": null,
      "metadata": {
        "id": "zdCV45dnvotP"
      },
      "outputs": [],
      "source": [
        "from sklearn.model_selection import KFold\n",
        "from ultralytics import YOLO\n",
        "import os\n",
        "import shutil\n",
        "from glob import glob\n",
        "from pathlib import Path # Import Path\n",
        "\n",
        "# Parameters\n",
        "k = 5\n",
        "dataset_dir = Path('/content/Brinjal-detection-7' ) # DATASET PATH\n",
        "images = sorted(glob(os.path.join(dataset_dir, 'images', '*.jpg')))\n",
        "labels = sorted(glob(os.path.join(dataset_dir, 'labels', '*.txt')))\n",
        "assert len(images) == len(labels)\n",
        "print(dataset_dir)\n",
        "\n",
        "\n",
        "dataset_path = Path(\"/content/Brinjal-detection-7\")  # replace with 'path/to/dataset' for your custom data\n",
        "labels = sorted(dataset_path.rglob(\"*labels/*.txt\"))  # all data in 'labels'\n",
        "images = sorted(dataset_path.rglob(\"*images/*.jpg\"))  # all data in 'images'\n",
        "print(len(images))\n",
        "\n",
        "# K-Fold\n",
        "kf = KFold(n_splits=k, shuffle=True, random_state=42)\n",
        "\n",
        "for fold, (train_idx, val_idx) in enumerate(kf.split(images)):\n",
        "    print(f'Fold {fold + 1}')\n",
        "\n",
        "    # Prepare directories\n",
        "    fold_dir = f'fold_{fold + 1}'\n",
        "    for split in ['train', 'val']:\n",
        "        for subdir in ['images', 'labels']:\n",
        "            os.makedirs(os.path.join(fold_dir, split, subdir), exist_ok=True)\n",
        "\n",
        "    # Copy training data\n",
        "    for idx in train_idx:\n",
        "        shutil.copy(images[idx], os.path.join(fold_dir, 'train', 'images'))\n",
        "        shutil.copy(labels[idx], os.path.join(fold_dir, 'train', 'labels'))\n",
        "\n",
        "    # Copy validation data\n",
        "    for idx in val_idx:\n",
        "        shutil.copy(images[idx], os.path.join(fold_dir, 'val', 'images'))\n",
        "        shutil.copy(labels[idx], os.path.join(fold_dir, 'val', 'labels'))\n",
        "\n",
        "    # Create YOLO data config file\n",
        "    data_yaml = f\"\"\"\n",
        "path: {os.path.abspath(fold_dir)}\n",
        "train: train/images\n",
        "val: val/images\n",
        "names: ['Brinjal']  # Adjust to your classes\n",
        "    \"\"\"\n",
        "\n",
        "    with open(os.path.join(fold_dir, 'data.yaml'), 'w') as f:\n",
        "        f.write(data_yaml)\n",
        "\n",
        "    # Train YOLOv8\n",
        "    model = YOLO('yolo11s.pt')  # or yolov8s.pt / custom checkpoint\n",
        "    model.train(data=os.path.join(fold_dir, 'data.yaml'), epochs=50, imgsz=640)"
      ]
    }
  ],
  "metadata": {
    "accelerator": "GPU",
    "colab": {
      "gpuType": "T4",
      "provenance": []
    },
    "kernelspec": {
      "display_name": "Python 3",
      "name": "python3"
    },
    "language_info": {
      "name": "python"
    }
  },
  "nbformat": 4,
  "nbformat_minor": 0
}